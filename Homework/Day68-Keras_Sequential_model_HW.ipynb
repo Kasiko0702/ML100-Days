{
 "cells": [
  {
   "cell_type": "code",
   "execution_count": 1,
   "metadata": {},
   "outputs": [
    {
     "name": "stderr",
     "output_type": "stream",
     "text": [
      "/Users/mac/anaconda3/lib/python3.6/site-packages/h5py/__init__.py:36: FutureWarning: Conversion of the second argument of issubdtype from `float` to `np.floating` is deprecated. In future, it will be treated as `np.float64 == np.dtype(float).type`.\n",
      "  from ._conv import register_converters as _register_converters\n",
      "Using TensorFlow backend.\n"
     ]
    }
   ],
   "source": [
    "# 載入必須使用的 Library\n",
    "import keras\n",
    "from keras.datasets import cifar10\n",
    "from keras.models import Sequential, load_model\n",
    "from keras.layers import Dense, Dropout, Activation, Flatten\n",
    "from keras.layers import Conv2D, MaxPooling2D\n"
   ]
  },
  {
   "cell_type": "markdown",
   "metadata": {},
   "source": [
    "# 作業:\n",
    "請修改input shape: (Conv2D(64, (3, 3))的設定, 新增一層 Dense 並觀看 model.summary 的輸出"
   ]
  },
  {
   "cell_type": "code",
   "execution_count": 2,
   "metadata": {},
   "outputs": [],
   "source": [
    "batch_size = 16\n",
    "num_classes = 10\n",
    "epochs = 10\n",
    "\n",
    "# The data, shuffled and split between train and test sets:\n",
    "(x_train, y_train), (x_test, y_test) = cifar10.load_data()"
   ]
  },
  {
   "cell_type": "code",
   "execution_count": 3,
   "metadata": {},
   "outputs": [],
   "source": [
    " #Convert class vectors to binary class matrices.\n",
    "y_train = keras.utils.to_categorical(y_train, num_classes)\n",
    "y_test = keras.utils.to_categorical(y_test, num_classes)\n",
    "\n",
    "x_train = x_train.astype('float32') / 255.0\n",
    "x_test = x_test.astype('float32') / 255.0"
   ]
  },
  {
   "cell_type": "code",
   "execution_count": null,
   "metadata": {},
   "outputs": [],
   "source": []
  },
  {
   "cell_type": "code",
   "execution_count": null,
   "metadata": {},
   "outputs": [],
   "source": []
  },
  {
   "cell_type": "code",
   "execution_count": 4,
   "metadata": {},
   "outputs": [],
   "source": [
    "# build our CNN model, 多加幾層\n",
    "model = Sequential()\n",
    "model.add(Conv2D(64, (3, 3), padding='same',\n",
    "                 input_shape=x_train.shape[1:]))\n",
    "model.add(Flatten())\n",
    "model.add(Dense(512))\n",
    "model.add(Activation('relu'))\n",
    "model.add(Dropout(0.5))\n",
    "model.add(Dense(num_classes))\n",
    "model.add(Activation('softmax'))\n"
   ]
  },
  {
   "cell_type": "code",
   "execution_count": 5,
   "metadata": {},
   "outputs": [
    {
     "name": "stdout",
     "output_type": "stream",
     "text": [
      "Train on 40000 samples, validate on 10000 samples\n",
      "Epoch 1/10\n",
      "40000/40000 [==============================] - 1752s 44ms/step - loss: 2.1828 - acc: 0.2874 - val_loss: 1.7440 - val_acc: 0.3823\n",
      "Epoch 2/10\n",
      "40000/40000 [==============================] - 777s 19ms/step - loss: 1.7839 - acc: 0.3640 - val_loss: 1.6415 - val_acc: 0.4322\n",
      "Epoch 3/10\n",
      "40000/40000 [==============================] - 741s 19ms/step - loss: 1.7017 - acc: 0.3967 - val_loss: 1.5946 - val_acc: 0.4398\n",
      "Epoch 4/10\n",
      "40000/40000 [==============================] - 777s 19ms/step - loss: 1.6444 - acc: 0.4189 - val_loss: 1.5813 - val_acc: 0.4452\n",
      "Epoch 5/10\n",
      "40000/40000 [==============================] - 737s 18ms/step - loss: 1.5962 - acc: 0.4347 - val_loss: 1.5414 - val_acc: 0.4676\n",
      "Epoch 6/10\n",
      "40000/40000 [==============================] - 741s 19ms/step - loss: 1.5581 - acc: 0.4500 - val_loss: 1.5234 - val_acc: 0.4786\n",
      "Epoch 7/10\n",
      "40000/40000 [==============================] - 756s 19ms/step - loss: 1.5017 - acc: 0.4699 - val_loss: 1.5174 - val_acc: 0.4735\n",
      "Epoch 8/10\n",
      "40000/40000 [==============================] - 780s 19ms/step - loss: 1.4696 - acc: 0.4789 - val_loss: 1.5364 - val_acc: 0.4684\n",
      "Epoch 9/10\n",
      "40000/40000 [==============================] - 715s 18ms/step - loss: 1.4249 - acc: 0.4952 - val_loss: 1.5112 - val_acc: 0.4888\n",
      "Epoch 10/10\n",
      "40000/40000 [==============================] - 741s 19ms/step - loss: 1.3780 - acc: 0.5076 - val_loss: 1.5301 - val_acc: 0.4794\n",
      "10000/10000 [==============================] - 34s 3ms/step\n",
      "Test accuracy: 0.4845\n"
     ]
    }
   ],
   "source": [
    "# initiate Adam optimizer\n",
    "opt = keras.optimizers.Adam()\n",
    "\n",
    "# Let's train the model using Adam\n",
    "model.compile(loss='categorical_crossentropy',optimizer=opt,metrics=['accuracy'])\n",
    "\n",
    "model_history = model.fit(x_train, y_train, validation_split=0.2, epochs=10, batch_size=128, verbose=1)  \n",
    "\n",
    "# Score trained model.\n",
    "scores = model.evaluate(x_test, y_test, verbose=1)\n",
    "print('Test accuracy:', scores[1])"
   ]
  },
  {
   "cell_type": "code",
   "execution_count": null,
   "metadata": {},
   "outputs": [],
   "source": []
  },
  {
   "cell_type": "code",
   "execution_count": null,
   "metadata": {},
   "outputs": [],
   "source": []
  },
  {
   "cell_type": "code",
   "execution_count": null,
   "metadata": {},
   "outputs": [],
   "source": []
  }
 ],
 "metadata": {
  "kernelspec": {
   "display_name": "Python 3",
   "language": "python",
   "name": "python3"
  },
  "language_info": {
   "codemirror_mode": {
    "name": "ipython",
    "version": 3
   },
   "file_extension": ".py",
   "mimetype": "text/x-python",
   "name": "python",
   "nbconvert_exporter": "python",
   "pygments_lexer": "ipython3",
   "version": "3.6.8"
  }
 },
 "nbformat": 4,
 "nbformat_minor": 2
}
